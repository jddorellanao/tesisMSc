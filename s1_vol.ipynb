{
 "cells": [
  {
   "cell_type": "markdown",
   "id": "04119596",
   "metadata": {},
   "source": [
    "# S1"
   ]
  },
  {
   "cell_type": "markdown",
   "id": "a5eee637",
   "metadata": {},
   "source": [
    "Esta libreta es para ajustar los valores y volumenes para la simulación de transporte de calor en Avizo. Lo que corresponde es agrupar todos los datos de los diferentes análisis y caracterizaciones para la determinación de volúmenes y conductividades térmicas para cada una de las fases."
   ]
  },
  {
   "cell_type": "markdown",
   "id": "0af72f9f",
   "metadata": {},
   "source": [
    "___"
   ]
  },
  {
   "cell_type": "markdown",
   "id": "6ff61082",
   "metadata": {},
   "source": [
    "## Estudios"
   ]
  },
  {
   "cell_type": "markdown",
   "id": "357d338d",
   "metadata": {},
   "source": [
    "### `MicroCT`\n",
    "1. La imagen cruda con dimensiones de `994x1024x2259` con un tamaño de voxel de `28.7855 µm` se recortó para poder procesarla sin la presencia de artefactos, con los siguientes parámetros de recorte, resultando en una imagen de dimensiones `580x580x1776`\n",
    "    - x = [218-797]\n",
    "    - y = [216-795]\n",
    "    - z = [229-2006]\n",
    "\n",
    "2. El filtrado de la imagen se realizó con el filtro Generic-Denoising_v-1.0 de Dragonfly, un modelo de tipo regresión basado en una arquitectura U-Net (CNN). Este modelo cuenta con una profundidad de 5 niveles y un número inicial de 64 filtros, operando sobre imágenes bidimensionales (2D). Está diseñado para tareas de eliminación de ruido, preservando los detalles estructurales de la imagen mediante conexiones de salto características de la arquitectura U-Net.\n",
    "3. La segmentación de la imagen recortada y filtrada, se realizó mediante una umbralización múltiple con los siguientes cortes:\n",
    "    - Fase 1: [ 7,187 - 19,059]\n",
    "    - Fase 2: [19,059 - 23,918]\n",
    "    - Fase 3: [23,918 - 27,914]\n",
    "    - Fase 3: [27,914 - 54,860]\n",
    "\n",
    "4. El siguiente paso fue la identificación y cuantificación de las fases:\n",
    "    - Matriz : 94.87%\n",
    "    - Poros : 4.89%\n",
    "    - Mineral 1 : 0.16%\n",
    "    - Mineral 2 : 0.08%"
   ]
  },
  {
   "cell_type": "markdown",
   "id": "0b0dc87b",
   "metadata": {},
   "source": [
    "___"
   ]
  },
  {
   "cell_type": "markdown",
   "id": "3283a9f8",
   "metadata": {},
   "source": [
    "### `Petrografía`\n",
    "Con el análisis petrográficos de las láminas delgadas del tope y base del tapón de núcleo se concluyó con la siguiente interpretación\n",
    "- Muestra: HJ-14-03-T01, HJ-14-03-B01\n",
    "- Unidad: Qta3 Traquiandesitas San Antonio - Las Chapas\n",
    "- Localidad: San Antonio, Chignautla, Puebla\n",
    "\n",
    "Descripción microscópica:\n",
    "- Textura: pilotaxítica o hialofítica\n",
    "\n",
    "Mineralogía: \n",
    "- Primarios: Plagioclasa cálcica, opacos, piroxenos\n",
    "- Secundarios: Opacos\n",
    "\n",
    "Composición modal estimada: Plagioclasa > Opacos > Piroxenos\n",
    "\n",
    "Clasificación de la roca: roca ígnea volcánica tipo lava\n",
    "\n",
    "Comentarios adicionales: contiene vidrio"
   ]
  },
  {
   "cell_type": "markdown",
   "id": "b27765af",
   "metadata": {},
   "source": [
    "___"
   ]
  },
  {
   "cell_type": "markdown",
   "id": "3d3c117f",
   "metadata": {},
   "source": [
    "### `Elementos mayores`\n",
    "| Estudio  | Muesta   | SiO<sub>2</sub> | TiO<sub>2</sub> | Al<sub>2</sub>O<sub>3</sub> | Fe<sub>2</sub>O<sub>3</sub> | MnO | MgO  | CaO  | Na<sub>2</sub>O | K<sub>2</sub>O | P<sub>2</sub>O<sub>5</sub> | LOI  | Total |\n",
    "|----------|----------|-------|------|-------|-------|------|------|------|------|------|------|------|--------|\n",
    "| Carrasco-Nuñez et al. (2017) | HJ-14-03 | 61.16 | 1.20 | 17.19 | 5.99  | 0.12 | 1.90 | 4.11 | 5.25 | 2.52 | 0.45 | 0.16 | 100.05 |\n",
    "| FRX en CFATA                 | HJ-14-03 | 65.08 | 1.42 | 19.19 | 7.21  | 0.15 |   -  | 4.41 |   -  | 1.78 | 0.58 |   -  | 99.82  |\n",
    "| diff                         |          | -3.92 | -0.22| -2.00 | -1.22 | -0.03| 1.90 | -0.30| 5.25 | 0.74 | -0.13| 0.16 | 0.23   |"
   ]
  },
  {
   "cell_type": "markdown",
   "id": "57461fb3",
   "metadata": {},
   "source": [
    "___"
   ]
  },
  {
   "cell_type": "markdown",
   "id": "d00728d7",
   "metadata": {},
   "source": [
    "### `DRX`\n",
    "|   Fase      |    Fórmula química    |     PDF#    | Wt % |\n",
    "|-------------|-----------------------|-------------|------|\n",
    "|   Albita    |       NaAlSi₃O₈       | 04-007-5092 | 66.7 |\n",
    "|  Anorthita  |       CaAl₂Si₂O₈      | 04-011-1371 | 18.3 |\n",
    "|  Pigeonita  | Ca₀.₀₆Mg₀.₆Fe₀.₃₄SiO₃ | 04-017-7892 | 11.6 |\n",
    "|  Magnetita  |   Fe(Fe₁.₂₄Ti₀.₆₁)O₄  | 04-017-7892 | 11.6 |"
   ]
  },
  {
   "cell_type": "markdown",
   "id": "5dc2366a",
   "metadata": {},
   "source": [
    "___"
   ]
  },
  {
   "cell_type": "markdown",
   "id": "2a589a7b",
   "metadata": {},
   "source": [
    "### `Comentarios`\n",
    "En la vista del microscopio se me sugurió que el piroxeno es una augita, y no pigeonita"
   ]
  },
  {
   "cell_type": "markdown",
   "id": "79130dce",
   "metadata": {},
   "source": [
    "___"
   ]
  },
  {
   "cell_type": "markdown",
   "id": "dd4100d0",
   "metadata": {},
   "source": [
    "### `Resumen`\n",
    "La siguiente tabla tiene las fases encontradas y demas propiedades que utilizadas en la simulacion\n",
    "| Fase           | $\\rho$ [g/cm³]| CT [W/m·K]   | Fórmula química           | Fase μCT | Fase (petrografía)| %DRX | %μCT |\n",
    "|----------------|---------------|--------------|---------------------------|----------|-------------------|------|------|\n",
    "| Ilmenita       | 4.5 – 5.0     | 2.5 – 3.5    | FeTiO₃                    | mineral2 | opaco             | 3.4  |      |\n",
    "| Hematita       | 5.0 – 5.3     | 10 – 12      | Fe₂O₃                     | mineral2 | opaco             |  ''  |      |\n",
    "| Magnetita      | 5.1 – 5.2     | 5 – 6        | Fe₃O₄                     | matriz   | opaco             |  ''  |      |\n",
    "| Titanomagnetita| 4.5 – 5.2     | 2.5          | (Fe²⁺,Ti⁴⁺)(Fe³⁺)₂O₄      | matriz   | opaco             |  ''  |      |\n",
    "| Albita         | 2.60 – 2.65   | 2.0 – 2.5    | NaAlSi₃O₈                 | matriz   | pl sodica         | 66.7 |      |\n",
    "| Anortita       | 2.75 – 2.80   | 1.5 – 2.5    | CaAl₂Si₂O₈                | mineral1 | pl calcica        | 18.3 |      |\n",
    "| Pigeonita      | 3.2 – 3.6     | 2.0 – 3.0    | (Ca,Mg,Fe)(Mg,Fe)Si₂O₆    | matriz   | piroxeno          | 11.6 |      |\n",
    "| Poros          | 0.0012        | 0.026        | 78%N₂ + 21%O₂ + 1%otros   | poros    | poros             | -    | 4.89 |\n"
   ]
  },
  {
   "cell_type": "markdown",
   "id": "7f7ab876",
   "metadata": {},
   "source": [
    "___"
   ]
  },
  {
   "cell_type": "markdown",
   "id": "70007fe8",
   "metadata": {},
   "source": [
    "## Cálculo de CT"
   ]
  },
  {
   "cell_type": "markdown",
   "id": "311f8b48",
   "metadata": {},
   "source": [
    "### `Correspondencia de fases`\n",
    "| Fase en MicroCT  | Rango de umbral     | % Vol. imagen  | Descripción                                  | Minerales principales                  |\n",
    "|------------------|---------------------|----------------|----------------------------------------------|----------------------------------------|\n",
    "| Fase 1           | 7,187 – 19,059      | 4.89%          | Poros                                        | Aire                                   |\n",
    "| Fase 2           | 19,059 – 23,918     | 94.87%         | Matriz dominante                             | Albita, pigeonita, anortita            |\n",
    "| Fase 3           | 23,918 – 27,914     | 0.16%          | Cristales (pl cálcica) individuales visibles | Anortita                               |\n",
    "| Fase 4           | 27,914 – 54,860     | 0.08%          | Inclusiones densas y opacas                  | Magnetita, hematita, ilmenita          |"
   ]
  },
  {
   "cell_type": "markdown",
   "id": "7bae4880",
   "metadata": {},
   "source": [
    "### `Cálculo de ETC para la fase 1`"
   ]
  },
  {
   "cell_type": "markdown",
   "id": "30716f3f",
   "metadata": {},
   "source": [
    "Identificada en la microCT como poros asumimos que esta fase es aire. \n",
    "$$k^{\\text{Fase 1}} = 0.026 \\text{ W/m} \\cdot \\text{K}$$"
   ]
  },
  {
   "cell_type": "markdown",
   "id": "55091f36",
   "metadata": {},
   "source": [
    "### `Cálculo de ETC para la fase 2`"
   ]
  },
  {
   "cell_type": "markdown",
   "id": "48235ad4",
   "metadata": {},
   "source": [
    "|   Mineral   |    Conductividad térmica (W/m·K)    | % frac |\n",
    "|-------------|:-----------------------------------:|--------|\n",
    "|   Albita    |                2.2                  | 0.667  |\n",
    "|   Anortita  |                2.0                  | 0.183  |\n",
    "|   Augita    |                2.5                  | 0.116  |"
   ]
  },
  {
   "cell_type": "markdown",
   "id": "5459940a",
   "metadata": {},
   "source": [
    "#### Límite de Voigt\n",
    "$$k_V=\\sum_{i}f_i \\cdot k_i$$"
   ]
  },
  {
   "cell_type": "code",
   "execution_count": 7,
   "id": "7e2baa5d",
   "metadata": {},
   "outputs": [
    {
     "data": {
      "text/plain": [
       "2.1234"
      ]
     },
     "execution_count": 7,
     "metadata": {},
     "output_type": "execute_result"
    }
   ],
   "source": [
    "kV = (0.667*2.2) + (0.183*2.0) + (0.116*2.5) \n",
    "kV"
   ]
  },
  {
   "cell_type": "markdown",
   "id": "6998ec95",
   "metadata": {},
   "source": [
    "#### Límite de Reuss\n",
    "$$\\frac{1}{k_R}=\\sum_{i} \\frac{f_i}{k_i}$$"
   ]
  },
  {
   "cell_type": "code",
   "execution_count": 8,
   "id": "5aa73eef",
   "metadata": {},
   "outputs": [
    {
     "data": {
      "text/plain": [
       "2.267153074053464"
      ]
     },
     "execution_count": 8,
     "metadata": {},
     "output_type": "execute_result"
    }
   ],
   "source": [
    "kR = ((0.667/2.2) + (0.183/2.0) + (0.116/2.5) )**(-1)\n",
    "kR"
   ]
  },
  {
   "cell_type": "markdown",
   "id": "b6c56d49",
   "metadata": {},
   "source": [
    "#### Límite medio efectivo estimado\n",
    "$$k_{ETC} = \\frac{k_V + k_R}{2}$$"
   ]
  },
  {
   "cell_type": "code",
   "execution_count": 10,
   "id": "c3385fea",
   "metadata": {},
   "outputs": [
    {
     "data": {
      "text/plain": [
       "2.195276537026732"
      ]
     },
     "execution_count": 10,
     "metadata": {},
     "output_type": "execute_result"
    }
   ],
   "source": [
    "kEff = (kV+kR)/2\n",
    "kEff"
   ]
  },
  {
   "cell_type": "markdown",
   "id": "982dc3e9",
   "metadata": {},
   "source": [
    "$$k_{ETC}^{\\text{Fase 2}} = \\frac{k_V + k_R}{2} = 2.195 \\text{ W/m} \\cdot \\text{K}$$"
   ]
  },
  {
   "cell_type": "markdown",
   "id": "757903ff",
   "metadata": {},
   "source": [
    "___"
   ]
  },
  {
   "cell_type": "markdown",
   "id": "a3fc7639",
   "metadata": {},
   "source": [
    "### `Cálculo de ETC para la fase 3`"
   ]
  },
  {
   "cell_type": "markdown",
   "id": "17623453",
   "metadata": {},
   "source": [
    "Identificada en el microscopio como mineral dominante Anortita (pl cálcica), asumimos que esta fase visible es puramente anortita. \n",
    "$$k^{\\text{Fase 2}} = 2.0 \\text{ W/m} \\cdot \\text{K}$$"
   ]
  },
  {
   "cell_type": "markdown",
   "id": "a8dd0b9d",
   "metadata": {},
   "source": [
    "___"
   ]
  },
  {
   "cell_type": "markdown",
   "id": "5d228df5",
   "metadata": {},
   "source": [
    "### `Cálculo de ETC para la fase 4`"
   ]
  },
  {
   "cell_type": "markdown",
   "id": "dfd6f2f6",
   "metadata": {},
   "source": [
    "|   Mineral        |    Conductividad térmica (W/m·K)    | % frac |\n",
    "|------------------|:-----------------------------------:|--------|\n",
    "|  Titanomagnetita |                2.5                  | 0.5    |\n",
    "|     Ilmenita     |                3.0                  | 0.5    |"
   ]
  },
  {
   "cell_type": "markdown",
   "id": "4b089066",
   "metadata": {},
   "source": [
    "#### Límite de Voigt\n",
    "$$k_V=\\sum_{i}f_i \\cdot k_i$$"
   ]
  },
  {
   "cell_type": "code",
   "execution_count": 11,
   "id": "da1b9810",
   "metadata": {},
   "outputs": [
    {
     "data": {
      "text/plain": [
       "2.75"
      ]
     },
     "execution_count": 11,
     "metadata": {},
     "output_type": "execute_result"
    }
   ],
   "source": [
    "kV = 0.5*2.5 + 0.5*3.0\n",
    "kV"
   ]
  },
  {
   "cell_type": "markdown",
   "id": "4eae6362",
   "metadata": {},
   "source": [
    "#### Límite de Reuss\n",
    "$$\\frac{1}{k_R}=\\sum_{i} \\frac{f_i}{k_i}$$"
   ]
  },
  {
   "cell_type": "code",
   "execution_count": 12,
   "id": "ecbc3845",
   "metadata": {},
   "outputs": [
    {
     "data": {
      "text/plain": [
       "2.727272727272727"
      ]
     },
     "execution_count": 12,
     "metadata": {},
     "output_type": "execute_result"
    }
   ],
   "source": [
    "kR = (0.5/2.5 + 0.5/3.0)**(-1)\n",
    "kR"
   ]
  },
  {
   "cell_type": "markdown",
   "id": "fbfadabb",
   "metadata": {},
   "source": [
    "#### Límite medio efectivo estimado\n",
    "$$k_{ETC} = \\frac{k_V + k_R}{2}$$"
   ]
  },
  {
   "cell_type": "code",
   "execution_count": 13,
   "id": "a6a51fc3",
   "metadata": {},
   "outputs": [
    {
     "data": {
      "text/plain": [
       "2.7386363636363633"
      ]
     },
     "execution_count": 13,
     "metadata": {},
     "output_type": "execute_result"
    }
   ],
   "source": [
    "kEff = (kV+kR)/2\n",
    "kEff"
   ]
  },
  {
   "cell_type": "markdown",
   "id": "4a80ebcb",
   "metadata": {},
   "source": [
    "$$k_{ETC}^{\\text{Fase 4}} = 2.739 $$"
   ]
  },
  {
   "cell_type": "markdown",
   "id": "04189873",
   "metadata": {},
   "source": [
    "___"
   ]
  },
  {
   "cell_type": "markdown",
   "id": "3b4c73bf",
   "metadata": {},
   "source": [
    "### `Propiedades físicas asignadas`\n",
    "| Fase         | CT (k, W/m·K) | Fase en imagen | Observaciones                             |\n",
    "|--------------|----------------------------------|----------------|-------------------------------------------|\n",
    "| Poros        | 0.026                            | Fase 1         | Aire                                      |\n",
    "| Matriz       | 2.195                            | Fase 2         | Mezcla de albita + pigeonita + anortita   |\n",
    "| Mineral 1    | 2.0                              | Fase 3         | Anortita (plagioclasa cálcica)            |\n",
    "| Mineral 2    | 2.739                            | Fase 4         | Titanomagnetita / ilmenita (opacos)       |\n"
   ]
  }
 ],
 "metadata": {
  "kernelspec": {
   "display_name": "Python 3",
   "language": "python",
   "name": "python3"
  },
  "language_info": {
   "codemirror_mode": {
    "name": "ipython",
    "version": 3
   },
   "file_extension": ".py",
   "mimetype": "text/x-python",
   "name": "python",
   "nbconvert_exporter": "python",
   "pygments_lexer": "ipython3",
   "version": "3.10.12"
  }
 },
 "nbformat": 4,
 "nbformat_minor": 5
}
